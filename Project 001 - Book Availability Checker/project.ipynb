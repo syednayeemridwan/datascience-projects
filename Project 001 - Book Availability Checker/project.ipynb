{
 "cells": [
  {
   "attachments": {},
   "cell_type": "markdown",
   "metadata": {},
   "source": [
    "# Import necessary packages"
   ]
  },
  {
   "cell_type": "code",
   "execution_count": 1,
   "metadata": {},
   "outputs": [],
   "source": [
    "import requests\n",
    "from bs4 import BeautifulSoup\n",
    "import re\n"
   ]
  },
  {
   "attachments": {},
   "cell_type": "markdown",
   "metadata": {},
   "source": [
    "# Fetch all books from website"
   ]
  },
  {
   "attachments": {},
   "cell_type": "markdown",
   "metadata": {},
   "source": [
    "The url is http://books.toscrape.com/"
   ]
  },
  {
   "cell_type": "code",
   "execution_count": 2,
   "metadata": {},
   "outputs": [],
   "source": [
    "site = \"http://books.toscrape.com/\"\n",
    "page = requests.get(site)\n",
    "soup = BeautifulSoup(page.content, 'html.parser')\n",
    "my_books = {}\n",
    "anchor_tags = [a['href'] for a in soup.find_all('a')]\n",
    "urls = anchor_tags[4:53]\n",
    "genre = None\n",
    "pattern = r'/([^/_]+)_\\d+'  \n",
    "\n",
    "for url in urls:\n",
    "    page_number = 1\n",
    "    genre_books = {}\n",
    "    match = re.search(pattern, url)\n",
    "    if match:\n",
    "        genre = match.group(1)\n",
    "        genre = genre.replace('-',' ')\n",
    "    genre_url = site + url\n",
    "    while True:\n",
    "      genre_page = requests.get(genre_url)\n",
    "      book_soup = BeautifulSoup(genre_page.content, 'html.parser')\n",
    "      for product in book_soup.find_all('article', {'class': 'product_pod'}):\n",
    "        title = product.h3.a['title'].lower()\n",
    "        availability = product.select_one('p.availability').text.strip().lower()\n",
    "        genre_books[title] = availability\n",
    "      my_books[genre] = genre_books\n",
    "      next_link = soup.find(\"li\", {\"class\": \"next\"}).find(\"a\")\n",
    "      if (\"404\" not in genre_page.text):\n",
    "        page_number += 1\n",
    "        next_url = site + url.replace('index.html', f'page-{page_number}.html')\n",
    "        genre_url = next_url\n",
    "        # print(f\"Found next page: {next_url}\")\n",
    "      else:\n",
    "        break\n",
    "\n",
    "  \n",
    "  \n",
    "        "
   ]
  },
  {
   "attachments": {},
   "cell_type": "markdown",
   "metadata": {},
   "source": [
    "# Helper function to check for availability"
   ]
  },
  {
   "cell_type": "code",
   "execution_count": 3,
   "metadata": {},
   "outputs": [],
   "source": [
    "\n",
    "def in_stock(title: str, topic: str) -> bool:\n",
    "  genre = topic.lower()\n",
    "  title = title.lower()\n",
    "  found = False\n",
    "  if genre in my_books.keys():\n",
    "    if title in my_books[genre].keys():\n",
    "      if my_books[genre][title] == 'in stock':\n",
    "        found = True\n",
    "  return found\n",
    "     "
   ]
  },
  {
   "attachments": {},
   "cell_type": "markdown",
   "metadata": {},
   "source": [
    "# Some test cases"
   ]
  },
  {
   "cell_type": "code",
   "execution_count": 4,
   "metadata": {},
   "outputs": [
    {
     "data": {
      "text/plain": [
       "True"
      ]
     },
     "execution_count": 4,
     "metadata": {},
     "output_type": "execute_result"
    }
   ],
   "source": [
    "in_stock(\"While You Were Mine\", \"Historical Fiction\")\n"
   ]
  },
  {
   "cell_type": "code",
   "execution_count": 5,
   "metadata": {},
   "outputs": [
    {
     "data": {
      "text/plain": [
       "True"
      ]
     },
     "execution_count": 5,
     "metadata": {},
     "output_type": "execute_result"
    }
   ],
   "source": [
    "in_stock(\"Online Marketing for Busy Authors: A Step-By-Step guide\", \"Self help\")\n"
   ]
  },
  {
   "cell_type": "code",
   "execution_count": 6,
   "metadata": {},
   "outputs": [
    {
     "data": {
      "text/plain": [
       "True"
      ]
     },
     "execution_count": 6,
     "metadata": {},
     "output_type": "execute_result"
    }
   ],
   "source": [
    "in_stock(\"The MooSEwood Cookbook: Recipes from Moosewood Restaurant, Ithaca, New York\", \"food and driNk\")\n"
   ]
  },
  {
   "cell_type": "code",
   "execution_count": 7,
   "metadata": {},
   "outputs": [
    {
     "data": {
      "text/plain": [
       "False"
      ]
     },
     "execution_count": 7,
     "metadata": {},
     "output_type": "execute_result"
    }
   ],
   "source": [
    "in_stock(\"While You Were Mine\", \"Science\")\n"
   ]
  },
  {
   "attachments": {},
   "cell_type": "markdown",
   "metadata": {},
   "source": [
    "# Helper function to see books in a specified genre"
   ]
  },
  {
   "cell_type": "code",
   "execution_count": 8,
   "metadata": {},
   "outputs": [],
   "source": [
    "\n",
    "def see_books(topic):\n",
    "  genre = topic.lower()\n",
    "  return my_books[genre]\n",
    "     "
   ]
  },
  {
   "attachments": {},
   "cell_type": "markdown",
   "metadata": {},
   "source": [
    "# Test Cases"
   ]
  },
  {
   "cell_type": "code",
   "execution_count": 9,
   "metadata": {},
   "outputs": [
    {
     "data": {
      "text/plain": [
       "{\"the most perfect thing: inside (and outside) a bird's egg\": 'in stock',\n",
       " 'immunity: how elie metchnikoff changed the course of modern medicine': 'in stock',\n",
       " 'sorting the beef from the bull: the science of food fraud forensics': 'in stock',\n",
       " 'tipping point for planet earth: how close are we to the edge?': 'in stock',\n",
       " 'the fabric of the cosmos: space, time, and the texture of reality': 'in stock',\n",
       " 'diary of a citizen scientist: chasing tiger beetles and other new ways of engaging the world': 'in stock',\n",
       " 'the origin of species': 'in stock',\n",
       " 'the grand design': 'in stock',\n",
       " 'peak: secrets from the new science of expertise': 'in stock',\n",
       " 'the elegant universe: superstrings, hidden dimensions, and the quest for the ultimate theory': 'in stock',\n",
       " 'the disappearing spoon: and other true tales of madness, love, and the history of the world from the periodic table of the elements': 'in stock',\n",
       " \"surely you're joking, mr. feynman!: adventures of a curious character\": 'in stock',\n",
       " 'seven brief lessons on physics': 'in stock',\n",
       " 'the selfish gene': 'in stock'}"
      ]
     },
     "execution_count": 9,
     "metadata": {},
     "output_type": "execute_result"
    }
   ],
   "source": [
    "see_books(\"Science\")"
   ]
  }
 ],
 "metadata": {
  "kernelspec": {
   "display_name": "base",
   "language": "python",
   "name": "python3"
  },
  "language_info": {
   "codemirror_mode": {
    "name": "ipython",
    "version": 3
   },
   "file_extension": ".py",
   "mimetype": "text/x-python",
   "name": "python",
   "nbconvert_exporter": "python",
   "pygments_lexer": "ipython3",
   "version": "3.8.3"
  },
  "orig_nbformat": 4,
  "vscode": {
   "interpreter": {
    "hash": "dc575bfddb5c8ca4bb6a4f4dcdd32abc104b5fa4177361381c432fff36ce3e46"
   }
  }
 },
 "nbformat": 4,
 "nbformat_minor": 2
}
